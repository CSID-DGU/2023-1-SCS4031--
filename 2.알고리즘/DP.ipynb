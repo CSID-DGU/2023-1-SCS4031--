{
 "cells": [
  {
   "cell_type": "code",
   "execution_count": 1,
   "id": "e8aacee4",
   "metadata": {},
   "outputs": [],
   "source": [
    "from functools import lru_cache\n",
    "from typing import Dict, List, Optional, Tuple\n",
    "\n",
    "import numpy as np\n",
    "\n",
    "\n",
    "def solve_tsp_dynamic_programming(\n",
    "    distance_matrix: np.ndarray,\n",
    "    maxsize: Optional[int] = None,\n",
    ") -> Tuple[List, float]:\n",
    "    \"\"\"\n",
    "    Solve TSP to optimality with dynamic programming.\n",
    "\n",
    "    Parameters\n",
    "    ----------\n",
    "    distance_matrix\n",
    "        Distance matrix of shape (n x n) with the (i, j) entry indicating the\n",
    "        distance from node i to j. It does not need to be symmetric\n",
    "\n",
    "    maxsize\n",
    "        Parameter passed to ``lru_cache`` decorator. Used to define the maximum\n",
    "        size for the recursion tree. Defaults to `None`, which essentially\n",
    "        means \"take as much space as needed\".\n",
    "\n",
    "    Returns\n",
    "    -------\n",
    "    permutation\n",
    "        A permutation of nodes from 0 to n that produces the least total\n",
    "        distance\n",
    "\n",
    "    distance\n",
    "        The total distance the optimal permutation produces\n",
    "\n",
    "    Notes\n",
    "    -----\n",
    "    Algorithm: cost of the optimal path\n",
    "    ~~~~~~~~~~~~~~~~~~~~~~~~~~~~~~~~~~~\n",
    "\n",
    "    Consider a TSP instance with 3 nodes: {0, 1, 2}. Let dist(0, {1, 2}) be the\n",
    "    distance from 0, visiting all nodes in {1, 2} and going back to 0. This can\n",
    "    be computed recursively as:\n",
    "\n",
    "        dist(0, {1, 2}) = min(\n",
    "            c_{0, 1} + dist(1, {2}),\n",
    "            c_{0, 2} + dist(2, {1}),\n",
    "        )\n",
    "\n",
    "    wherein c_{0, 1} is the cost from going from 0 to 1 in the distance matrix.\n",
    "    The inner dist(1, {2}) is computed as:\n",
    "\n",
    "        dist(1, {2}) = min(\n",
    "            c_{1, 2} + dist(2, {}),\n",
    "        )\n",
    "\n",
    "    and similarly for dist(2, {1}). The stopping point in the recursion is:\n",
    "\n",
    "        dist(2, {}) = c_{2, 0}.\n",
    "\n",
    "    This process can be generalized as:\n",
    "\n",
    "        dist(ni, N) =   min   ( c_{ni, nj} + dist(nj, N - {nj}) )\n",
    "                      nj in N\n",
    "\n",
    "    and\n",
    "\n",
    "        dist(ni, {}) = c_{ni, 0}\n",
    "\n",
    "    With starting point as dist(0, {1, 2, ..., tsp_size}). The notation\n",
    "    N - {nj} is the difference operator, meaning set N without node nj.\n",
    "\n",
    "\n",
    "    Algorithm: compute the optimal path\n",
    "    ~~~~~~~~~~~~~~~~~~~~~~~~~~~~~~~~~~~\n",
    "    The previous process returns the distance of the optimal path. To find the\n",
    "    actual path, we need to store in a memory the following key/values:\n",
    "\n",
    "        memo[(ni, N)] = nj_min\n",
    "\n",
    "    with nj_min the node in N that provided the smallest value of dist(ni, N).\n",
    "    Then, the process goes backwards starting from\n",
    "    memo[(0, {1, 2, ..., tsp_size})].\n",
    "\n",
    "    In the previous example, suppose memo[(0, {1, 2})] = 1.\n",
    "    Then, look for memo[(1, {2})] = 2.\n",
    "    Then, since the next step would be memo[2, {}], stop there. The optimal\n",
    "    path would be 0 -> 1 -> 2 -> 0.\n",
    "\n",
    "\n",
    "    Reference\n",
    "    ---------\n",
    "    https://en.wikipedia.org/wiki/Held%E2%80%93Karp_algorithm#cite_note-5\n",
    "    \"\"\"\n",
    "    # Get initial set {1, 2, ..., tsp_size} as a frozenset because @lru_cache\n",
    "    # requires a hashable type\n",
    "    N = frozenset(range(1, distance_matrix.shape[0]))\n",
    "    memo: Dict[Tuple, int] = {}\n",
    "\n",
    "    # Step 1: get minimum distance\n",
    "    @lru_cache(maxsize=maxsize)\n",
    "    def dist(ni: int, N: frozenset) -> float:\n",
    "        if not N:\n",
    "            return distance_matrix[ni, 0]\n",
    "\n",
    "        # Store the costs in the form (nj, dist(nj, N))\n",
    "        costs = [\n",
    "            (nj, distance_matrix[ni, nj] + dist(nj, N.difference({nj})))\n",
    "            for nj in N\n",
    "        ]\n",
    "        nmin, min_cost = min(costs, key=lambda x: x[1])\n",
    "        memo[(ni, N)] = nmin\n",
    "        return min_cost\n",
    "\n",
    "    best_distance = dist(0, N)\n",
    "\n",
    "    # Step 2: get path with the minimum distance\n",
    "    ni = 0  # start at the origin\n",
    "    solution = [0]\n",
    "    while N:\n",
    "        ni = memo[(ni, N)]\n",
    "        solution.append(ni)\n",
    "        N = N.difference({ni})\n",
    "\n",
    "    return solution, best_distance\n"
   ]
  },
  {
   "cell_type": "code",
   "execution_count": 31,
   "id": "3d9af971",
   "metadata": {},
   "outputs": [],
   "source": [
    "import pandas as pd\n",
    "df = pd.read_csv('cluster(GMM) - 26_27_28_29 보조기사 clus3.csv')\n",
    "#df = df.drop(columns = ['Unnamed: 0'])\n",
    "#df\n",
    "df = df.to_numpy()"
   ]
  },
  {
   "cell_type": "code",
   "execution_count": 32,
   "id": "cec53249",
   "metadata": {},
   "outputs": [
    {
     "data": {
      "text/plain": [
       "([0, 1, 3, 2], 152)"
      ]
     },
     "execution_count": 32,
     "metadata": {},
     "output_type": "execute_result"
    }
   ],
   "source": [
    "solve_tsp_dynamic_programming(distance_matrix= df)"
   ]
  }
 ],
 "metadata": {
  "kernelspec": {
   "display_name": "Python 3",
   "language": "python",
   "name": "python3"
  },
  "language_info": {
   "codemirror_mode": {
    "name": "ipython",
    "version": 3
   },
   "file_extension": ".py",
   "mimetype": "text/x-python",
   "name": "python",
   "nbconvert_exporter": "python",
   "pygments_lexer": "ipython3",
   "version": "3.8.8"
  },
  "toc": {
   "base_numbering": 1,
   "nav_menu": {},
   "number_sections": true,
   "sideBar": true,
   "skip_h1_title": false,
   "title_cell": "Table of Contents",
   "title_sidebar": "Contents",
   "toc_cell": false,
   "toc_position": {},
   "toc_section_display": true,
   "toc_window_display": false
  },
  "varInspector": {
   "cols": {
    "lenName": 16,
    "lenType": 16,
    "lenVar": 40
   },
   "kernels_config": {
    "python": {
     "delete_cmd_postfix": "",
     "delete_cmd_prefix": "del ",
     "library": "var_list.py",
     "varRefreshCmd": "print(var_dic_list())"
    },
    "r": {
     "delete_cmd_postfix": ") ",
     "delete_cmd_prefix": "rm(",
     "library": "var_list.r",
     "varRefreshCmd": "cat(var_dic_list()) "
    }
   },
   "types_to_exclude": [
    "module",
    "function",
    "builtin_function_or_method",
    "instance",
    "_Feature"
   ],
   "window_display": false
  }
 },
 "nbformat": 4,
 "nbformat_minor": 5
}
