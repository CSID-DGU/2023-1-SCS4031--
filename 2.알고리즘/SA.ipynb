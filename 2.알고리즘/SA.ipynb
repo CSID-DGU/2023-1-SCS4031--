{
 "cells": [
  {
   "cell_type": "code",
   "execution_count": 27,
   "id": "6cededd0",
   "metadata": {},
   "outputs": [],
   "source": [
    "import logging\n",
    "from timeit import default_timer\n",
    "from typing import List, Optional, Tuple\n",
    "import pandas as pd\n",
    "\n",
    "import numpy as np\n",
    "\n",
    "from python_tsp.heuristics.perturbation_schemes import neighborhood_gen\n",
    "from python_tsp.heuristics.local_search import setup\n",
    "from python_tsp.utils import compute_permutation_distance\n",
    "\n",
    "\n",
    "logger = logging.getLogger(__name__)\n",
    "ch = logging.StreamHandler()\n",
    "ch.setLevel(level=logging.WARNING)\n",
    "logger.addHandler(ch)\n",
    "\n",
    "\n",
    "def solve_tsp_simulated_annealing(\n",
    "    distance_matrix: np.ndarray,\n",
    "    x0: Optional[List[int]] = None,\n",
    "    perturbation_scheme: str = \"two_opt\",\n",
    "    alpha: float = 0.9,\n",
    "    max_processing_time: float = None,\n",
    "    log_file: Optional[str] = None,\n",
    ") -> Tuple[List, float]:\n",
    "    \"\"\"Solve a TSP problem using a Simulated Annealing\n",
    "    The approach used here is the one proposed in [1].\n",
    "\n",
    "    Parameters\n",
    "    ----------\n",
    "    distance_matrix\n",
    "        Distance matrix of shape (n x n) with the (i, j) entry indicating the\n",
    "        distance from node i to j\n",
    "\n",
    "    x0\n",
    "        Initial permutation. If not provided, it starts with a random path\n",
    "\n",
    "    perturbation_scheme {\"ps1\", \"ps2\", \"ps3\", \"ps4\", \"ps5\", \"ps6\", [\"two_opt\"]}\n",
    "        Mechanism used to generate new solutions. Defaults to \"two_opt\"\n",
    "\n",
    "    alpha\n",
    "        Reduction factor (``alpha`` < 1) used to reduce the temperature. As a\n",
    "        rule of thumb, 0.99 takes longer but may return better solutions, whike\n",
    "        0.9 is faster but may not be as good. A good approach is to use 0.9\n",
    "        (as default) and if required run the returned solution with a local\n",
    "        search.\n",
    "\n",
    "    max_processing_time {None}\n",
    "        Maximum processing time in seconds. If not provided, the method stops\n",
    "        only when there were 3 temperature cycles with no improvement.\n",
    "\n",
    "    log_file\n",
    "        If not `None`, creates a log file with details about the whole\n",
    "        execution\n",
    "\n",
    "    Returns\n",
    "    -------\n",
    "    A permutation of nodes from 0 to n - 1 that produces the least total\n",
    "    distance obtained (not necessarily optimal).\n",
    "\n",
    "    The total distance the returned permutation produces.\n",
    "\n",
    "    References\n",
    "    ----------\n",
    "    [1] Dréo, Johann, et al. Metaheuristics for hard optimization: methods and\n",
    "    case studies. Springer Science & Business Media, 2006.\n",
    "    \"\"\"\n",
    "\n",
    "    x, fx = setup(distance_matrix, x0)\n",
    "    temp = _initial_temperature(distance_matrix, x, fx, perturbation_scheme)\n",
    "    max_processing_time = max_processing_time or np.inf\n",
    "    if log_file:\n",
    "        fh = logging.FileHandler(log_file)\n",
    "        fh.setLevel(logging.INFO)\n",
    "        logger.addHandler(fh)\n",
    "        logger.setLevel(logging.INFO)\n",
    "\n",
    "    n = len(x)\n",
    "    k_inner_min = n  # min inner iterations\n",
    "    k_inner_max = 10 * n  # max inner iterations\n",
    "    k_noimprovements = 0  # number of inner loops without improvement\n",
    "\n",
    "    tic = default_timer()\n",
    "    stop_early = False\n",
    "    while (k_noimprovements < 3) and (not stop_early):\n",
    "        k_accepted = 0  # number of accepted perturbations\n",
    "        for k in range(k_inner_max):\n",
    "            if default_timer() - tic > max_processing_time:\n",
    "                logger.warning(\"Stopping early due to time constraints\")\n",
    "                stop_early = True\n",
    "                break\n",
    "\n",
    "            xn = _perturbation(x, perturbation_scheme)\n",
    "            fn = compute_permutation_distance(distance_matrix, xn)\n",
    "\n",
    "            if _acceptance_rule(fx, fn, temp):\n",
    "                x, fx = xn, fn\n",
    "                k_accepted += 1\n",
    "                k_noimprovements = 0\n",
    "\n",
    "            logger.info(\n",
    "                f\"Temperature {temp}. Current value: {fx} \"\n",
    "                f\"k: {k + 1}/{k_inner_max} \"\n",
    "                f\"k_accepted: {k_accepted}/{k_inner_min} \"\n",
    "                f\"k_noimprovements: {k_noimprovements}\"\n",
    "            )\n",
    "\n",
    "            if k_accepted >= k_inner_min:\n",
    "                break\n",
    "\n",
    "        temp *= alpha  # temperature update\n",
    "        k_noimprovements += k_accepted == 0\n",
    "\n",
    "    return x, fx\n",
    "\n",
    "\n",
    "def _initial_temperature(\n",
    "    distance_matrix: np.ndarray,\n",
    "    x: List[int],\n",
    "    fx: float,\n",
    "    perturbation_scheme: str,\n",
    ") -> float:\n",
    "    \"\"\"Compute initial temperature\n",
    "    Instead of relying on problem-dependent parameters, this function estimates\n",
    "    the temperature using the suggestion in [1].\n",
    "\n",
    "    Notes\n",
    "    -----\n",
    "    Here are the steps followed:\n",
    "        1. Generate 100 disturbances at random from T0, and evaluate the mean\n",
    "        objective value differences dfx_mean = mean(fn - fx);\n",
    "        2. Choose tau0 = 0.5 as assumed quality of initial solution (assuming\n",
    "        a bad one), and deduce T0 from exp(-fx_mean/T0) = tau0, that is,\n",
    "        T0 = -fx_mean/ln(tau0)\n",
    "\n",
    "    References\n",
    "    ----------\n",
    "    [1] Dréo, Johann, et al. Metaheuristics for hard optimization: methods and\n",
    "    case studies. Springer Science & Business Media, 2006.\n",
    "    \"\"\"\n",
    "\n",
    "    # Step 1\n",
    "    dfx_list = []\n",
    "    for _ in range(100):\n",
    "        xn = _perturbation(x, perturbation_scheme)\n",
    "        fn = compute_permutation_distance(distance_matrix, xn)\n",
    "        dfx_list.append(fn - fx)\n",
    "\n",
    "    dfx_mean = np.abs(np.mean(dfx_list))\n",
    "\n",
    "    # Step 2\n",
    "    tau0 = 0.5\n",
    "    return -dfx_mean / np.log(tau0)\n",
    "\n",
    "\n",
    "def _perturbation(x: List[int], perturbation_scheme: str):\n",
    "    \"\"\"Generate a random neighbor of a current solution ``x``\n",
    "    In this case, we can use the generators created in the `local_search`\n",
    "    module, and pick the first solution. Since the neighborhood is randomized,\n",
    "    it is the same as creating a random perturbation.\n",
    "    \"\"\"\n",
    "    return next(neighborhood_gen[perturbation_scheme](x))\n",
    "\n",
    "\n",
    "def _acceptance_rule(fx: float, fn: float, temp: float) -> bool:\n",
    "    \"\"\"Metropolis acceptance rule\"\"\"\n",
    "\n",
    "    dfx = fn - fx\n",
    "    return (dfx < 0) or (\n",
    "        (dfx > 0) and (np.random.rand() <= np.exp(-(fn - fx) / temp))\n",
    "    )"
   ]
  },
  {
   "cell_type": "code",
   "execution_count": 28,
   "id": "4533de1b",
   "metadata": {},
   "outputs": [],
   "source": [
    "import pandas as pd\n",
    "import numpy as np\n",
    "import matplotlib.pyplot as plt\n",
    "import seaborn as sns\n",
    "import random as rd"
   ]
  },
  {
   "cell_type": "code",
   "execution_count": 29,
   "id": "a97feec0",
   "metadata": {},
   "outputs": [],
   "source": [
    "# df = pd.read_csv(\"위경도좌표.csv\", encoding='cp949')\n",
    "# sns.set(style='whitegrid', font='KoPubDotum', font_scale=1.2)"
   ]
  },
  {
   "cell_type": "code",
   "execution_count": 30,
   "id": "c826bf56",
   "metadata": {},
   "outputs": [],
   "source": [
    "df = pd.read_excel(\"../1.데이터/20230323_clustering.xlsx\")\n",
    "# print(df.iloc[:10,[2,1]].values)\n",
    "# df=df.iloc[:,[1,2]].values\n",
    "# df"
   ]
  },
  {
   "cell_type": "code",
   "execution_count": 31,
   "id": "3c19efb7",
   "metadata": {},
   "outputs": [],
   "source": [
    "X = df.iloc[:,[2]].values\n",
    "Y = df.iloc[:,[1]].values\n",
    "Z = np.hstack([X,Y])"
   ]
  },
  {
   "cell_type": "code",
   "execution_count": 32,
   "metadata": {},
   "outputs": [
    {
     "data": {
      "text/plain": [
       "50"
      ]
     },
     "execution_count": 32,
     "metadata": {},
     "output_type": "execute_result"
    }
   ],
   "source": [
    "len(Z)"
   ]
  },
  {
   "cell_type": "code",
   "execution_count": 33,
   "id": "ce7aa867",
   "metadata": {
    "scrolled": false
   },
   "outputs": [
    {
     "data": {
      "image/png": "[encoded data removed]",
      "text/plain": [
       "<Figure size 800x600 with 1 Axes>"
      ]
     },
     "metadata": {},
     "output_type": "display_data"
    }
   ],
   "source": [
    "annotations=[]\n",
    "for i in range(len(Z)):\n",
    "    annotations.append(str(i))\n",
    "\n",
    "plt.figure(figsize=(8,6))\n",
    "plt.scatter(X,Y,color=\"black\")\n",
    "plt.xlabel(\"X\")\n",
    "plt.ylabel(\"Y\")\n",
    "plt.title(\"Labeling points\",fontsize=15)\n",
    "for i, label in enumerate(annotations):\n",
    "    plt.text(X[i], Y[i],label)\n",
    "\n",
    "plt.show()"
   ]
  },
  {
   "cell_type": "code",
   "execution_count": 34,
   "id": "7c5ffbb9",
   "metadata": {},
   "outputs": [],
   "source": [
    "# df = pd.read_csv('cluster(GMM) - clus 주기사.csv')\n",
    "# #df = df.drop(columns = ['Unnamed: 0'])\n",
    "# #df\n",
    "# df = df.to_numpy()\n",
    "# #df"
   ]
  },
  {
   "cell_type": "code",
   "execution_count": 35,
   "id": "fb7577ca",
   "metadata": {},
   "outputs": [],
   "source": [
    "df = df.iloc[:,1:3]"
   ]
  },
  {
   "cell_type": "code",
   "execution_count": 36,
   "id": "8039b3b7",
   "metadata": {},
   "outputs": [],
   "source": [
    "import pandas as pd\n",
    "import numpy as np\n",
    "from scipy.spatial import distance\n",
    "\n",
    "def maker(df):\n",
    "    Z = df.iloc[:,[1]].values\n",
    "    Y = df.iloc[:,[0]].values\n",
    "    X = np.hstack([Z,Y])\n",
    "\n",
    "    X_cdist_cityblock = distance.cdist(X, X, metric='cityblock')\n",
    "\n",
    "\n",
    "    return X_cdist_cityblock\n"
   ]
  },
  {
   "cell_type": "code",
   "execution_count": 37,
   "id": "1a9f76fc",
   "metadata": {},
   "outputs": [
    {
     "data": {
      "text/plain": [
       "array([[0.        , 0.0057422 , 0.00486286, ..., 0.0043409 , 0.00298864,\n",
       "        0.00314007],\n",
       "       [0.0057422 , 0.        , 0.0069362 , ..., 0.0100831 , 0.0082131 ,\n",
       "        0.00315167],\n",
       "       [0.00486286, 0.0069362 , 0.        , ..., 0.00794795, 0.0078515 ,\n",
       "        0.00378453],\n",
       "       ...,\n",
       "       [0.0043409 , 0.0100831 , 0.00794795, ..., 0.        , 0.00187   ,\n",
       "        0.00748097],\n",
       "       [0.00298864, 0.0082131 , 0.0078515 , ..., 0.00187   , 0.        ,\n",
       "        0.00561097],\n",
       "       [0.00314007, 0.00315167, 0.00378453, ..., 0.00748097, 0.00561097,\n",
       "        0.        ]])"
      ]
     },
     "execution_count": 37,
     "metadata": {},
     "output_type": "execute_result"
    }
   ],
   "source": [
    "a = maker(df)\n",
    "a"
   ]
  },
  {
   "cell_type": "code",
   "execution_count": 38,
   "id": "14a2af67",
   "metadata": {},
   "outputs": [],
   "source": [
    "result = solve_tsp_simulated_annealing(\n",
    "    distance_matrix= a,\n",
    "    perturbation_scheme= \"two_opt\",\n",
    "    alpha= 0.9,\n",
    "        max_processing_time = None)"
   ]
  },
  {
   "cell_type": "code",
   "execution_count": 39,
   "id": "afa0b22e",
   "metadata": {},
   "outputs": [
    {
     "data": {
      "text/plain": [
       "([0,\n",
       "  22,\n",
       "  11,\n",
       "  44,\n",
       "  20,\n",
       "  42,\n",
       "  1,\n",
       "  37,\n",
       "  32,\n",
       "  16,\n",
       "  9,\n",
       "  23,\n",
       "  36,\n",
       "  15,\n",
       "  21,\n",
       "  3,\n",
       "  10,\n",
       "  2,\n",
       "  17,\n",
       "  38,\n",
       "  39,\n",
       "  14,\n",
       "  4,\n",
       "  40,\n",
       "  49,\n",
       "  28,\n",
       "  18,\n",
       "  26,\n",
       "  12,\n",
       "  29,\n",
       "  46,\n",
       "  7,\n",
       "  43,\n",
       "  19,\n",
       "  33,\n",
       "  35,\n",
       "  6,\n",
       "  27,\n",
       "  34,\n",
       "  45,\n",
       "  13,\n",
       "  41,\n",
       "  24,\n",
       "  5,\n",
       "  47,\n",
       "  31,\n",
       "  48,\n",
       "  8,\n",
       "  30,\n",
       "  25],)"
      ]
     },
     "execution_count": 39,
     "metadata": {},
     "output_type": "execute_result"
    }
   ],
   "source": [
    "result = result[:-1]\n",
    "result"
   ]
  },
  {
   "cell_type": "code",
   "execution_count": 40,
   "id": "56f7e873",
   "metadata": {},
   "outputs": [
    {
     "data": {
      "text/plain": [
       "[0,\n",
       " 6,\n",
       " 17,\n",
       " 15,\n",
       " 22,\n",
       " 43,\n",
       " 36,\n",
       " 31,\n",
       " 47,\n",
       " 10,\n",
       " 16,\n",
       " 2,\n",
       " 28,\n",
       " 40,\n",
       " 21,\n",
       " 13,\n",
       " 9,\n",
       " 18,\n",
       " 26,\n",
       " 33,\n",
       " 4,\n",
       " 14,\n",
       " 1,\n",
       " 11,\n",
       " 42,\n",
       " 49,\n",
       " 27,\n",
       " 37,\n",
       " 25,\n",
       " 29,\n",
       " 48,\n",
       " 45,\n",
       " 8,\n",
       " 34,\n",
       " 38,\n",
       " 35,\n",
       " 12,\n",
       " 7,\n",
       " 19,\n",
       " 20,\n",
       " 23,\n",
       " 41,\n",
       " 5,\n",
       " 32,\n",
       " 3,\n",
       " 39,\n",
       " 30,\n",
       " 44,\n",
       " 46,\n",
       " 24]"
      ]
     },
     "execution_count": 40,
     "metadata": {},
     "output_type": "execute_result"
    }
   ],
   "source": [
    "add = []\n",
    "for i in result:\n",
    "    add.append(i)\n",
    "add\n",
    "sequence = []\n",
    "\n",
    "for i in range(len(add[0])):\n",
    "    for j, k in enumerate(add[0]):\n",
    "        # print(k,i)\n",
    "        if i == k:\n",
    "            sequence.append(j)\n",
    "sequence\n",
    "            "
   ]
  },
  {
   "cell_type": "code",
   "execution_count": 46,
   "id": "0d830ebf",
   "metadata": {},
   "outputs": [
    {
     "data": {
      "text/plain": [
       "array([[127.04177597,  37.73412353],\n",
       "       [127.0436104 ,  37.7380313 ],\n",
       "       [127.04601093,  37.73349563],\n",
       "       [127.0504666 ,  37.7359981 ],\n",
       "       [127.0446557 ,  37.73577546],\n",
       "       [127.0384281 ,  37.7339681 ],\n",
       "       [127.04118784,  37.73559542],\n",
       "       [127.04393994,  37.73339692],\n",
       "       [127.03957087,  37.73418455],\n",
       "       [127.04503698,  37.7371553 ],\n",
       "       [127.04884693,  37.73373657],\n",
       "       [127.04266435,  37.73510938],\n",
       "       [127.045142  ,  37.73402217],\n",
       "       [127.03951976,  37.7352816 ],\n",
       "       [127.04518707,  37.73632763],\n",
       "       [127.0475838 ,  37.7392456 ],\n",
       "       [127.04410226,  37.73692827],\n",
       "       [127.0457732 ,  37.73436915],\n",
       "       [127.04471707,  37.73457212],\n",
       "       [127.0431843 ,  37.7343685 ],\n",
       "       [127.04368066,  37.73574896],\n",
       "       [127.047849  ,  37.7357597 ],\n",
       "       [127.04235828,  37.73383888],\n",
       "       [127.04514418,  37.73748528],\n",
       "       [127.03865142,  37.73452072],\n",
       "       [127.04175927,  37.73356817],\n",
       "       [127.04430738,  37.73394584],\n",
       "       [127.04117153,  37.7349841 ],\n",
       "       [127.04441787,  37.73501123],\n",
       "       [127.0450791 ,  37.7334027 ],\n",
       "       [127.03986878,  37.7335638 ],\n",
       "       [127.03896   ,  37.73374433],\n",
       "       [127.04397467,  37.7375199 ],\n",
       "       [127.04184962,  37.73471608],\n",
       "       [127.0405649 ,  37.73505602],\n",
       "       [127.0416753 ,  37.7357268 ],\n",
       "       [127.04477082,  37.73760196],\n",
       "       [127.04387   ,  37.7381114 ],\n",
       "       [127.04562808,  37.73478898],\n",
       "       [127.04528117,  37.73586917],\n",
       "       [127.04461644,  37.73540266],\n",
       "       [127.03888105,  37.73496415],\n",
       "       [127.0436065 ,  37.7370373 ],\n",
       "       [127.0432112 ,  37.7336116 ],\n",
       "       [127.04277292,  37.7357438 ],\n",
       "       [127.039929  ,  37.7354448 ],\n",
       "       [127.0447028 ,  37.73332043],\n",
       "       [127.03848   ,  37.7330786 ],\n",
       "       [127.0390462 ,  37.7343824 ],\n",
       "       [127.04388517,  37.7351544 ]])"
      ]
     },
     "execution_count": 46,
     "metadata": {},
     "output_type": "execute_result"
    }
   ],
   "source": [
    "FullPoints = []\n",
    "# print(float(X[1]),float(Y[1]))\n",
    "for i in range(len(X)):\n",
    "    FullPoints.append([float(X[i]), float(Y[i])])\n",
    "FullPoints = np.array(FullPoints)\n",
    "FullPoints"
   ]
  },
  {
   "cell_type": "code",
   "execution_count": 64,
   "id": "a41bb81d",
   "metadata": {},
   "outputs": [
    {
     "name": "stdout",
     "output_type": "stream",
     "text": [
      "[0, 22, 11, 44, 20, 42, 1, 37, 32, 16, 9, 23, 36, 15, 21, 3, 10, 2, 17, 38, 39, 14, 4, 40, 49, 28, 18, 26, 12, 29, 46, 7, 43, 19, 33, 35, 6, 27, 34, 45, 13, 41, 24, 5, 47, 31, 48, 8, 30, 25]\n"
     ]
    },
    {
     "data": {
      "text/plain": [
       "array([ 0, 22, 11, 44, 20, 42,  1, 37, 32, 16,  9, 23, 36, 15, 21,  3, 10,\n",
       "        2, 17, 38, 39, 14,  4, 40, 49, 28, 18, 26, 12, 29, 46,  7, 43, 19,\n",
       "       33, 35,  6, 27, 34, 45, 13, 41, 24,  5, 47, 31, 48,  8, 30, 25])"
      ]
     },
     "execution_count": 64,
     "metadata": {},
     "output_type": "execute_result"
    }
   ],
   "source": [
    "path_indices = []\n",
    "for i in result:\n",
    "    for j in i:\n",
    "        path_indices.append(j)\n",
    "print(path_indices)\n",
    "# path_indices = path_indices.astype(np.int32)\n",
    "path_indeices = np.array(path_indices)\n",
    "path_indeices"
   ]
  },
  {
   "cell_type": "code",
   "execution_count": 65,
   "id": "ab9fe77c",
   "metadata": {},
   "outputs": [
    {
     "data": {
      "text/plain": [
       "[<matplotlib.lines.Line2D at 0x25d00ad5090>]"
      ]
     },
     "execution_count": 65,
     "metadata": {},
     "output_type": "execute_result"
    },
    {
     "data": {
      "image/png": "[encoded data removed]",
      "text/plain": [
       "<Figure size 640x480 with 1 Axes>"
      ]
     },
     "metadata": {},
     "output_type": "display_data"
    }
   ],
   "source": [
    "plt.figure()\n",
    "plt.scatter(FullPoints[path_indices,0], FullPoints[path_indices,1])\n",
    "plt.plot(FullPoints[path_indices,0], FullPoints[path_indices,1], 'r--', lw=2)\n",
    "plt.plot(FullPoints[path_indices[0],0], FullPoints[path_indices[0],1], 'ro')"
   ]
  },
  {
   "cell_type": "code",
   "execution_count": 140,
   "id": "db1e64ae",
   "metadata": {},
   "outputs": [
    {
     "data": {
      "text/plain": [
       "[[0],\n",
       " [23],\n",
       " [13],\n",
       " [15],\n",
       " [28],\n",
       " [42],\n",
       " [36],\n",
       " [5],\n",
       " [46],\n",
       " [19],\n",
       " [14],\n",
       " [34],\n",
       " [8],\n",
       " [38],\n",
       " [26],\n",
       " [17],\n",
       " [25],\n",
       " [12],\n",
       " [10],\n",
       " [3],\n",
       " [32],\n",
       " [16],\n",
       " [2],\n",
       " [18],\n",
       " [41],\n",
       " [1],\n",
       " [9],\n",
       " [48],\n",
       " [30],\n",
       " [7],\n",
       " [45],\n",
       " [44],\n",
       " [21],\n",
       " [49],\n",
       " [47],\n",
       " [35],\n",
       " [20],\n",
       " [22],\n",
       " [11],\n",
       " [27],\n",
       " [29],\n",
       " [39],\n",
       " [24],\n",
       " [4],\n",
       " [33],\n",
       " [37],\n",
       " [6],\n",
       " [43],\n",
       " [40],\n",
       " [31]]"
      ]
     },
     "execution_count": 140,
     "metadata": {},
     "output_type": "execute_result"
    }
   ],
   "source": [
    "sequences = []\n",
    "for i in sequence:\n",
    "    sequences.append([i])\n",
    "sequences"
   ]
  },
  {
   "cell_type": "code",
   "execution_count": 141,
   "id": "71c3b22b",
   "metadata": {},
   "outputs": [
    {
     "data": {
      "text/plain": [
       "array([[127.04177597,  37.73412353,   0.        ],\n",
       "       [127.0436104 ,  37.7380313 ,  23.        ],\n",
       "       [127.04601093,  37.73349563,  13.        ],\n",
       "       [127.0504666 ,  37.7359981 ,  15.        ],\n",
       "       [127.0446557 ,  37.73577546,  28.        ],\n",
       "       [127.0384281 ,  37.7339681 ,  42.        ],\n",
       "       [127.04118784,  37.73559542,  36.        ],\n",
       "       [127.04393994,  37.73339692,   5.        ],\n",
       "       [127.03957087,  37.73418455,  46.        ],\n",
       "       [127.04503698,  37.7371553 ,  19.        ],\n",
       "       [127.04884693,  37.73373657,  14.        ],\n",
       "       [127.04266435,  37.73510938,  34.        ],\n",
       "       [127.045142  ,  37.73402217,   8.        ],\n",
       "       [127.03951976,  37.7352816 ,  38.        ],\n",
       "       [127.04518707,  37.73632763,  26.        ],\n",
       "       [127.0475838 ,  37.7392456 ,  17.        ],\n",
       "       [127.04410226,  37.73692827,  25.        ],\n",
       "       [127.0457732 ,  37.73436915,  12.        ],\n",
       "       [127.04471707,  37.73457212,  10.        ],\n",
       "       [127.0431843 ,  37.7343685 ,   3.        ],\n",
       "       [127.04368066,  37.73574896,  32.        ],\n",
       "       [127.047849  ,  37.7357597 ,  16.        ],\n",
       "       [127.04235828,  37.73383888,   2.        ],\n",
       "       [127.04514418,  37.73748528,  18.        ],\n",
       "       [127.03865142,  37.73452072,  41.        ],\n",
       "       [127.04175927,  37.73356817,   1.        ],\n",
       "       [127.04430738,  37.73394584,   9.        ],\n",
       "       [127.04117153,  37.7349841 ,  48.        ],\n",
       "       [127.04441787,  37.73501123,  30.        ],\n",
       "       [127.0450791 ,  37.7334027 ,   7.        ],\n",
       "       [127.03986878,  37.7335638 ,  45.        ],\n",
       "       [127.03896   ,  37.73374433,  44.        ],\n",
       "       [127.04397467,  37.7375199 ,  21.        ],\n",
       "       [127.04184962,  37.73471608,  49.        ],\n",
       "       [127.0405649 ,  37.73505602,  47.        ],\n",
       "       [127.0416753 ,  37.7357268 ,  35.        ],\n",
       "       [127.04477082,  37.73760196,  20.        ],\n",
       "       [127.04387   ,  37.7381114 ,  22.        ],\n",
       "       [127.04562808,  37.73478898,  11.        ],\n",
       "       [127.04528117,  37.73586917,  27.        ],\n",
       "       [127.04461644,  37.73540266,  29.        ],\n",
       "       [127.03888105,  37.73496415,  39.        ],\n",
       "       [127.0436065 ,  37.7370373 ,  24.        ],\n",
       "       [127.0432112 ,  37.7336116 ,   4.        ],\n",
       "       [127.04277292,  37.7357438 ,  33.        ],\n",
       "       [127.039929  ,  37.7354448 ,  37.        ],\n",
       "       [127.0447028 ,  37.73332043,   6.        ],\n",
       "       [127.03848   ,  37.7330786 ,  43.        ],\n",
       "       [127.0390462 ,  37.7343824 ,  40.        ],\n",
       "       [127.04388517,  37.7351544 ,  31.        ]])"
      ]
     },
     "execution_count": 141,
     "metadata": {},
     "output_type": "execute_result"
    }
   ],
   "source": [
    "asdf = np.hstack([X,Y,sequences])\n",
    "asdf"
   ]
  },
  {
   "cell_type": "code",
   "execution_count": null,
   "id": "53ed9544",
   "metadata": {},
   "outputs": [],
   "source": []
  }
 ],
 "metadata": {
  "kernelspec": {
   "display_name": "Python 3",
   "language": "python",
   "name": "python3"
  },
  "language_info": {
   "codemirror_mode": {
    "name": "ipython",
    "version": 3
   },
   "file_extension": ".py",
   "mimetype": "text/x-python",
   "name": "python",
   "nbconvert_exporter": "python",
   "pygments_lexer": "ipython3",
   "version": "3.10.11"
  },
  "toc": {
   "base_numbering": 1,
   "nav_menu": {},
   "number_sections": true,
   "sideBar": true,
   "skip_h1_title": false,
   "title_cell": "Table of Contents",
   "title_sidebar": "Contents",
   "toc_cell": false,
   "toc_position": {},
   "toc_section_display": true,
   "toc_window_display": false
  },
  "varInspector": {
   "cols": {
    "lenName": 16,
    "lenType": 16,
    "lenVar": 40
   },
   "kernels_config": {
    "python": {
     "delete_cmd_postfix": "",
     "delete_cmd_prefix": "del ",
     "library": "var_list.py",
     "varRefreshCmd": "print(var_dic_list())"
    },
    "r": {
     "delete_cmd_postfix": ") ",
     "delete_cmd_prefix": "rm(",
     "library": "var_list.r",
     "varRefreshCmd": "cat(var_dic_list()) "
    }
   },
   "types_to_exclude": [
    "module",
    "function",
    "builtin_function_or_method",
    "instance",
    "_Feature"
   ],
   "window_display": false
  }
 },
 "nbformat": 4,
 "nbformat_minor": 5
}
