{
 "cells": [
  {
   "cell_type": "code",
   "execution_count": 1,
   "id": "6cededd0",
   "metadata": {},
   "outputs": [],
   "source": [
    "import logging\n",
    "from timeit import default_timer\n",
    "from typing import List, Optional, Tuple\n",
    "import pandas as pd\n",
    "\n",
    "import numpy as np\n",
    "\n",
    "from python_tsp.heuristics.perturbation_schemes import neighborhood_gen\n",
    "from python_tsp.heuristics.local_search import setup\n",
    "from python_tsp.utils import compute_permutation_distance\n",
    "\n",
    "\n",
    "logger = logging.getLogger(__name__)\n",
    "ch = logging.StreamHandler()\n",
    "ch.setLevel(level=logging.WARNING)\n",
    "logger.addHandler(ch)\n",
    "\n",
    "\n",
    "def solve_tsp_simulated_annealing(\n",
    "    distance_matrix: np.ndarray,\n",
    "    x0: Optional[List[int]] = None,\n",
    "    perturbation_scheme: str = \"two_opt\",\n",
    "    alpha: float = 0.9,\n",
    "    max_processing_time: float = None,\n",
    "    log_file: Optional[str] = None,\n",
    ") -> Tuple[List, float]:\n",
    "    \"\"\"Solve a TSP problem using a Simulated Annealing\n",
    "    The approach used here is the one proposed in [1].\n",
    "\n",
    "    Parameters\n",
    "    ----------\n",
    "    distance_matrix\n",
    "        Distance matrix of shape (n x n) with the (i, j) entry indicating the\n",
    "        distance from node i to j\n",
    "\n",
    "    x0\n",
    "        Initial permutation. If not provided, it starts with a random path\n",
    "\n",
    "    perturbation_scheme {\"ps1\", \"ps2\", \"ps3\", \"ps4\", \"ps5\", \"ps6\", [\"two_opt\"]}\n",
    "        Mechanism used to generate new solutions. Defaults to \"two_opt\"\n",
    "\n",
    "    alpha\n",
    "        Reduction factor (``alpha`` < 1) used to reduce the temperature. As a\n",
    "        rule of thumb, 0.99 takes longer but may return better solutions, whike\n",
    "        0.9 is faster but may not be as good. A good approach is to use 0.9\n",
    "        (as default) and if required run the returned solution with a local\n",
    "        search.\n",
    "\n",
    "    max_processing_time {None}\n",
    "        Maximum processing time in seconds. If not provided, the method stops\n",
    "        only when there were 3 temperature cycles with no improvement.\n",
    "\n",
    "    log_file\n",
    "        If not `None`, creates a log file with details about the whole\n",
    "        execution\n",
    "\n",
    "    Returns\n",
    "    -------\n",
    "    A permutation of nodes from 0 to n - 1 that produces the least total\n",
    "    distance obtained (not necessarily optimal).\n",
    "\n",
    "    The total distance the returned permutation produces.\n",
    "\n",
    "    References\n",
    "    ----------\n",
    "    [1] Dréo, Johann, et al. Metaheuristics for hard optimization: methods and\n",
    "    case studies. Springer Science & Business Media, 2006.\n",
    "    \"\"\"\n",
    "\n",
    "    x, fx = setup(distance_matrix, x0)\n",
    "    temp = _initial_temperature(distance_matrix, x, fx, perturbation_scheme)\n",
    "    max_processing_time = max_processing_time or np.inf\n",
    "    if log_file:\n",
    "        fh = logging.FileHandler(log_file)\n",
    "        fh.setLevel(logging.INFO)\n",
    "        logger.addHandler(fh)\n",
    "        logger.setLevel(logging.INFO)\n",
    "\n",
    "    n = len(x)\n",
    "    k_inner_min = n  # min inner iterations\n",
    "    k_inner_max = 10 * n  # max inner iterations\n",
    "    k_noimprovements = 0  # number of inner loops without improvement\n",
    "\n",
    "    tic = default_timer()\n",
    "    stop_early = False\n",
    "    while (k_noimprovements < 3) and (not stop_early):\n",
    "        k_accepted = 0  # number of accepted perturbations\n",
    "        for k in range(k_inner_max):\n",
    "            if default_timer() - tic > max_processing_time:\n",
    "                logger.warning(\"Stopping early due to time constraints\")\n",
    "                stop_early = True\n",
    "                break\n",
    "\n",
    "            xn = _perturbation(x, perturbation_scheme)\n",
    "            fn = compute_permutation_distance(distance_matrix, xn)\n",
    "\n",
    "            if _acceptance_rule(fx, fn, temp):\n",
    "                x, fx = xn, fn\n",
    "                k_accepted += 1\n",
    "                k_noimprovements = 0\n",
    "\n",
    "            logger.info(\n",
    "                f\"Temperature {temp}. Current value: {fx} \"\n",
    "                f\"k: {k + 1}/{k_inner_max} \"\n",
    "                f\"k_accepted: {k_accepted}/{k_inner_min} \"\n",
    "                f\"k_noimprovements: {k_noimprovements}\"\n",
    "            )\n",
    "\n",
    "            if k_accepted >= k_inner_min:\n",
    "                break\n",
    "\n",
    "        temp *= alpha  # temperature update\n",
    "        k_noimprovements += k_accepted == 0\n",
    "\n",
    "    return x, fx\n",
    "\n",
    "\n",
    "def _initial_temperature(\n",
    "    distance_matrix: np.ndarray,\n",
    "    x: List[int],\n",
    "    fx: float,\n",
    "    perturbation_scheme: str,\n",
    ") -> float:\n",
    "    \"\"\"Compute initial temperature\n",
    "    Instead of relying on problem-dependent parameters, this function estimates\n",
    "    the temperature using the suggestion in [1].\n",
    "\n",
    "    Notes\n",
    "    -----\n",
    "    Here are the steps followed:\n",
    "        1. Generate 100 disturbances at random from T0, and evaluate the mean\n",
    "        objective value differences dfx_mean = mean(fn - fx);\n",
    "        2. Choose tau0 = 0.5 as assumed quality of initial solution (assuming\n",
    "        a bad one), and deduce T0 from exp(-fx_mean/T0) = tau0, that is,\n",
    "        T0 = -fx_mean/ln(tau0)\n",
    "\n",
    "    References\n",
    "    ----------\n",
    "    [1] Dréo, Johann, et al. Metaheuristics for hard optimization: methods and\n",
    "    case studies. Springer Science & Business Media, 2006.\n",
    "    \"\"\"\n",
    "\n",
    "    # Step 1\n",
    "    dfx_list = []\n",
    "    for _ in range(100):\n",
    "        xn = _perturbation(x, perturbation_scheme)\n",
    "        fn = compute_permutation_distance(distance_matrix, xn)\n",
    "        dfx_list.append(fn - fx)\n",
    "\n",
    "    dfx_mean = np.abs(np.mean(dfx_list))\n",
    "\n",
    "    # Step 2\n",
    "    tau0 = 0.5\n",
    "    return -dfx_mean / np.log(tau0)\n",
    "\n",
    "\n",
    "def _perturbation(x: List[int], perturbation_scheme: str):\n",
    "    \"\"\"Generate a random neighbor of a current solution ``x``\n",
    "    In this case, we can use the generators created in the `local_search`\n",
    "    module, and pick the first solution. Since the neighborhood is randomized,\n",
    "    it is the same as creating a random perturbation.\n",
    "    \"\"\"\n",
    "    return next(neighborhood_gen[perturbation_scheme](x))\n",
    "\n",
    "\n",
    "def _acceptance_rule(fx: float, fn: float, temp: float) -> bool:\n",
    "    \"\"\"Metropolis acceptance rule\"\"\"\n",
    "\n",
    "    dfx = fn - fx\n",
    "    return (dfx < 0) or (\n",
    "        (dfx > 0) and (np.random.rand() <= np.exp(-(fn - fx) / temp))\n",
    "    )\n"
   ]
  },
  {
   "cell_type": "code",
   "execution_count": 2,
   "id": "4533de1b",
   "metadata": {},
   "outputs": [],
   "source": [
    "import pandas as pd\n",
    "import numpy as np\n",
    "import matplotlib.pyplot as plt\n",
    "import seaborn as sns\n",
    "import random as rd"
   ]
  },
  {
   "cell_type": "code",
   "execution_count": 3,
   "id": "a97feec0",
   "metadata": {},
   "outputs": [],
   "source": [
    "df = pd.read_csv(\"위경도좌표.csv\", encoding='cp949')\n",
    "sns.set(style='whitegrid', font='KoPubDotum', font_scale=1.2)"
   ]
  },
  {
   "cell_type": "code",
   "execution_count": 4,
   "id": "3c19efb7",
   "metadata": {},
   "outputs": [],
   "source": [
    "X = df.iloc[:,[2]].values\n",
    "Y = df.iloc[:,[1]].values\n",
    "Z = np.hstack([X,Y])"
   ]
  },
  {
   "cell_type": "code",
   "execution_count": 5,
   "id": "ce7aa867",
   "metadata": {
    "scrolled": false
   },
   "outputs": [
    {
     "name": "stderr",
     "output_type": "stream",
     "text": [
      "findfont: Font family ['KoPubDotum'] not found. Falling back to DejaVu Sans.\n",
      "findfont: Font family ['KoPubDotum'] not found. Falling back to DejaVu Sans.\n",
      "findfont: Font family ['KoPubDotum'] not found. Falling back to DejaVu Sans.\n"
     ]
    },
    {
     "data": {
      "image/png": "[encoded data removed]",
      "text/plain": [
       "<Figure size 576x432 with 1 Axes>"
      ]
     },
     "metadata": {},
     "output_type": "display_data"
    }
   ],
   "source": [
    "annotations=[\"0\",\"1\",\"2\",\"3\",\"4\",\"5\",\"6\",\"7\",\"8\",\"9\",\"10\",\"11\",\"12\",\"13\",\"14\",\"15\",\"16\",\"17\",\"18\",\"19\",\"20\",\"21\",\"22\",\"23\",\"24\",\"25\",\"26\",\"27\",\"28\",\"29\"]\n",
    "\n",
    "plt.figure(figsize=(8,6))\n",
    "plt.scatter(X,Y,s=30,color=\"black\")\n",
    "plt.xlabel(\"X\")\n",
    "plt.ylabel(\"Y\")\n",
    "plt.title(\"Labeling points\",fontsize=15)\n",
    "for i, label in enumerate(annotations):\n",
    "    plt.text(X[i], Y[i],label)\n",
    "\n",
    "plt.show()"
   ]
  },
  {
   "cell_type": "code",
   "execution_count": 6,
   "id": "7c5ffbb9",
   "metadata": {},
   "outputs": [],
   "source": [
    "df = pd.read_csv('cluster(GMM) - clus 주기사.csv')\n",
    "#df = df.drop(columns = ['Unnamed: 0'])\n",
    "#df\n",
    "df = df.to_numpy()\n",
    "#df"
   ]
  },
  {
   "cell_type": "code",
   "execution_count": 7,
   "id": "8039b3b7",
   "metadata": {},
   "outputs": [
    {
     "data": {
      "text/plain": [
       "array([[  0, 159, 327,  83, 174, 154, 351, 448, 143],\n",
       "       [159,   0, 169, 138, 222, 202, 286, 383,  57],\n",
       "       [327, 169,   0, 145, 227,  73, 111, 211, 123],\n",
       "       [ 83, 138, 145,   0,  82,  63, 262, 360, 138],\n",
       "       [174, 222, 227,  82,   0, 147, 338, 433, 213],\n",
       "       [154, 202,  73,  63, 147,   0, 176, 276, 191],\n",
       "       [351, 286, 111, 262, 338, 176,   0, 100, 231],\n",
       "       [448, 383, 211, 360, 433, 276, 100,   0, 335],\n",
       "       [143,  57, 123, 138, 213, 191, 231, 335,   0]], dtype=int64)"
      ]
     },
     "execution_count": 7,
     "metadata": {},
     "output_type": "execute_result"
    }
   ],
   "source": [
    "df1 = pd.read_csv('cluster - clus4.csv')\n",
    "df1 = df1.drop(columns = ['Unnamed: 0'])\n",
    "df1 = df1.to_numpy()\n",
    "df1"
   ]
  },
  {
   "cell_type": "code",
   "execution_count": 8,
   "id": "14a2af67",
   "metadata": {},
   "outputs": [
    {
     "data": {
      "text/plain": [
       "([0, 10, 15, 14, 9, 2, 3, 4, 5, 17, 16, 18, 7, 8, 6, 12, 13, 11, 1], 3912)"
      ]
     },
     "execution_count": 8,
     "metadata": {},
     "output_type": "execute_result"
    }
   ],
   "source": [
    "solve_tsp_simulated_annealing(\n",
    "    distance_matrix= df,\n",
    "    perturbation_scheme= \"two_opt\",\n",
    "    alpha= 0.9,\n",
    "    max_processing_time = None)"
   ]
  }
 ],
 "metadata": {
  "kernelspec": {
   "display_name": "Python 3",
   "language": "python",
   "name": "python3"
  },
  "language_info": {
   "codemirror_mode": {
    "name": "ipython",
    "version": 3
   },
   "file_extension": ".py",
   "mimetype": "text/x-python",
   "name": "python",
   "nbconvert_exporter": "python",
   "pygments_lexer": "ipython3",
   "version": "3.8.8"
  },
  "toc": {
   "base_numbering": 1,
   "nav_menu": {},
   "number_sections": true,
   "sideBar": true,
   "skip_h1_title": false,
   "title_cell": "Table of Contents",
   "title_sidebar": "Contents",
   "toc_cell": false,
   "toc_position": {},
   "toc_section_display": true,
   "toc_window_display": false
  },
  "varInspector": {
   "cols": {
    "lenName": 16,
    "lenType": 16,
    "lenVar": 40
   },
   "kernels_config": {
    "python": {
     "delete_cmd_postfix": "",
     "delete_cmd_prefix": "del ",
     "library": "var_list.py",
     "varRefreshCmd": "print(var_dic_list())"
    },
    "r": {
     "delete_cmd_postfix": ") ",
     "delete_cmd_prefix": "rm(",
     "library": "var_list.r",
     "varRefreshCmd": "cat(var_dic_list()) "
    }
   },
   "types_to_exclude": [
    "module",
    "function",
    "builtin_function_or_method",
    "instance",
    "_Feature"
   ],
   "window_display": false
  }
 },
 "nbformat": 4,
 "nbformat_minor": 5
}
