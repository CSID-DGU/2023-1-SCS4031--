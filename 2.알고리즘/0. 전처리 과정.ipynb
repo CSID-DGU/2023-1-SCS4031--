{
 "cells": [
  {
   "cell_type": "code",
   "execution_count": 3,
   "metadata": {},
   "outputs": [],
   "source": [
    "lst = [\"의정부동 573-1403호\",\n",
    "\"의정부동544-1403호\",\n",
    "\"신흥로207번길52304호\",\n",
    "\"의정부동557-4103호\",\n",
    "\"의정부동557-4103호\",\n",
    "\"의정부동499-6617호\",\n",
    "\"의정부동499-6617호\",\n",
    "\"신흥로22번길5-30(의정부동) 의정부역코아루퍼스트원2012호\",\n",
    "\"신흐로232번길5-30(의정부동,신한헤스티아) 1415호\",\n",
    "\"의정부동49411층 1105(의정부,센트럴타워) ㈜에이플러스 에셋어드바이저의정부\",\n",
    "\"의정부동4949층 904호(의정부동,센트럴타워) 프라임에셋㈜의정부5지점\",\n",
    "\"신민로 80 (의정부동, 센트럴타워)센트럴타워빌딩 3층 경륜장 사무실\",\n",
    "\"신민로 80 (의정부동, 센트럴타워)센트럴타워빌딩 3층 경륜장 사무실\"]"
   ]
  },
  {
   "cell_type": "code",
   "execution_count": 39,
   "metadata": {},
   "outputs": [
    {
     "data": {
      "text/plain": [
       "['의정부동 573-1403호',\n",
       " '의정부동544-1403호',\n",
       " '신흥로207번길52304호',\n",
       " '의정부동557-4103호',\n",
       " '의정부동557-4103호',\n",
       " '의정부동499-6617호',\n",
       " '의정부동499-6617호',\n",
       " '신흥로22번길5-30(의정부동) 의정부역코아루퍼스트원2012호',\n",
       " '신흐로232번길5-30(의정부동,신한헤스티아) 1415호',\n",
       " '의정부동49411층 1105(의정부,센트럴타워) ㈜에이플러스 에셋어드바이저의정부',\n",
       " '의정부동4949층 904호(의정부동,센트럴타워) 프라임에셋㈜의정부5지점',\n",
       " '신민로 80 (의정부동, 센트럴타워)센트럴타워빌딩 3층 경륜장 사무실',\n",
       " '신민로 80 (의정부동, 센트럴타워)센트럴타워빌딩 3층 경륜장 사무실']"
      ]
     },
     "execution_count": 39,
     "metadata": {},
     "output_type": "execute_result"
    }
   ],
   "source": [
    "class NaverAPI:\n",
    "    def geocoding(self, addr):\n",
    "        import requests\n",
    " \n",
    "        client_id = \"\"\n",
    "        client_secret = \"\"\n",
    " \n",
    "        url = f\"https://naveropenapi.apigw.ntruss.com/map-geocode/v2/geocode?query={addr}\"\n",
    "        headers = {'X-NCP-APIGW-API-KEY-ID': \"vm2th19gna\",\n",
    "                   'X-NCP-APIGW-API-KEY': \"rZWPrrjRxrkaSaojGS7m9v8Q6sy6uml55AnBg96D\"\n",
    "                   }\n",
    " \n",
    "        r = requests.get(url, headers=headers)\n",
    " \n",
    "        if r.status_code == 200:\n",
    "            data = r.json()\n",
    "            lat = data['addresses'][0]['x']  # 위도\n",
    "            lng = data['addresses'][0]['y']  # 경도\n",
    "            stAddress = data['addresses'][0]['roadAddress'] # 도로명 주소\n",
    "            list = [lat,lng,stAddress]\n",
    "            return list\n",
    "\n",
    "naverapi = NaverAPI()"
   ]
  },
  {
   "cell_type": "code",
   "execution_count": 42,
   "metadata": {},
   "outputs": [],
   "source": [
    "import re\n",
    "\n",
    "def remove_ho(text):\n",
    "    p_text = re.finditer(r'[0-9]{3}호', text)\n",
    "    \n",
    "    for m in p_text:\n",
    "        idx = (m.span()[0])\n",
    "    first = text[:idx]\n",
    "    second = text[idx:]\n",
    "    result = first + \" \" + second\n",
    "    return result\n",
    "\n",
    "def remove_gwal(text):\n",
    "    p_text = text.replace(\"(\", \" \")\n",
    "    p_text = p_text.replace(\")\", \" \")\n",
    "    return p_text\n",
    "\n",
    "def pre_pro(text):\n",
    "    try:\n",
    "        arr = naverapi.geocoding(remove_ho(remove_gwal(text)))\n",
    "        print(arr)\n",
    "    except:\n",
    "        print(\"error\")\n",
    "        print(text)\n",
    "\n"
   ]
  },
  {
   "cell_type": "code",
   "execution_count": 38,
   "metadata": {},
   "outputs": [
    {
     "name": "stdout",
     "output_type": "stream",
     "text": [
      "['127.0437990', '37.7334273', '경기도 의정부시 신흥로 194']\n"
     ]
    },
    {
     "data": {
      "text/plain": [
       "['127.0437990', '37.7334273', '경기도 의정부시 신흥로 194']"
      ]
     },
     "execution_count": 38,
     "metadata": {},
     "output_type": "execute_result"
    }
   ],
   "source": []
  },
  {
   "cell_type": "code",
   "execution_count": null,
   "metadata": {},
   "outputs": [],
   "source": []
  },
  {
   "cell_type": "code",
   "execution_count": null,
   "metadata": {},
   "outputs": [],
   "source": []
  }
 ],
 "metadata": {
  "kernelspec": {
   "display_name": "Python 3",
   "language": "python",
   "name": "python3"
  },
  "language_info": {
   "codemirror_mode": {
    "name": "ipython",
    "version": 3
   },
   "file_extension": ".py",
   "mimetype": "text/x-python",
   "name": "python",
   "nbconvert_exporter": "python",
   "pygments_lexer": "ipython3",
   "version": "3.10.10"
  },
  "orig_nbformat": 4,
  "vscode": {
   "interpreter": {
    "hash": "53850ca5db339163aff258d4ae6bd351d34b22745ae3cd615fe38e241b3d5483"
   }
  }
 },
 "nbformat": 4,
 "nbformat_minor": 2
}
