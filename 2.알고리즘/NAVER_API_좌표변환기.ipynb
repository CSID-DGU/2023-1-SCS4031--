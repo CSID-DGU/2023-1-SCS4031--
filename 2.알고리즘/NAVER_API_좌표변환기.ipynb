{
 "cells": [
  {
   "cell_type": "code",
   "execution_count": 3,
   "metadata": {},
   "outputs": [],
   "source": [
    "import requests\n",
    "import openpyxl\n",
    "class NaverAPI:\n",
    "    def geocoding(self, addr):\n",
    "        import requests\n",
    " \n",
    "        client_id = \"\"\n",
    "        client_secret = \"\"\n",
    " \n",
    "        url = f\"https://naveropenapi.apigw.ntruss.com/map-geocode/v2/geocode?query={addr}\"\n",
    "        headers = {'X-NCP-APIGW-API-KEY-ID': \"vm2th19gna\",\n",
    "                   'X-NCP-APIGW-API-KEY': \"rZWPrrjRxrkaSaojGS7m9v8Q6sy6uml55AnBg96D\"\n",
    "                   }\n",
    " \n",
    "        r = requests.get(url, headers=headers)\n",
    " \n",
    "        if r.status_code == 200:\n",
    "            data = r.json()\n",
    "            lat = data['addresses'][0]['y']  # 위도\n",
    "            lng = data['addresses'][0]['x']  # 경도\n",
    "            stAddress = data['addresses'][0]['roadAddress'] # 도로명 주소\n",
    "            list = [lat,lng,stAddress]\n",
    "            return list"
   ]
  },
  {
   "cell_type": "code",
   "execution_count": 4,
   "metadata": {},
   "outputs": [
    {
     "name": "stdout",
     "output_type": "stream",
     "text": [
      "['37.5587025', '126.9985224', '서울특별시 중구 필동로1길 46']\n",
      "37.5587025\n",
      "126.9985224\n",
      "서울특별시 중구 필동로1길 46\n"
     ]
    }
   ],
   "source": [
    "if __name__ == '__main__':\n",
    "    addr = '중구 필동로 1길 50'\n",
    "    naverapi = NaverAPI()\n",
    "    arr = naverapi.geocoding(addr)\n",
    " \n",
    "    print(arr)\n",
    "    print(arr[0])\n",
    "    print(arr[1])\n",
    "    print(arr[2])"
   ]
  },
  {
   "cell_type": "code",
   "execution_count": null,
   "metadata": {},
   "outputs": [],
   "source": []
  }
 ],
 "metadata": {
  "kernelspec": {
   "display_name": "Python 3",
   "language": "python",
   "name": "python3"
  },
  "language_info": {
   "codemirror_mode": {
    "name": "ipython",
    "version": 3
   },
   "file_extension": ".py",
   "mimetype": "text/x-python",
   "name": "python",
   "nbconvert_exporter": "python",
   "pygments_lexer": "ipython3",
   "version": "3.10.7"
  },
  "orig_nbformat": 4
 },
 "nbformat": 4,
 "nbformat_minor": 2
}
